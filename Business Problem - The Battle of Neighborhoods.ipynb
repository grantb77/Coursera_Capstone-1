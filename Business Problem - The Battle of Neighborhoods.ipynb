{
 "cells": [
  {
   "cell_type": "markdown",
   "metadata": {},
   "source": [
    "# Business Problem - The Battle of Neighborhoods"
   ]
  },
  {
   "cell_type": "markdown",
   "metadata": {},
   "source": [
    "## Introduction/Business Problem"
   ]
  },
  {
   "cell_type": "markdown",
   "metadata": {},
   "source": [
    "Introduction where you discuss the business problem and who would be interested in this project."
   ]
  },
  {
   "cell_type": "markdown",
   "metadata": {},
   "source": [
    "#### \"Would you recommend a location in Hong Kong to open a new cinema?\"  \n",
    "My boss, the stakeholder wants to **open a new cinema as company's new business** and ask me this question.\n",
    "  \n",
    "He explains that in customer point of view, watching movie is a part of whole afternoon or night activities. Cinema should has **many restaurants and shopping places nearby**. Transportation is also an important factor. Customer can walk to cinema within **5 minutes** from **public transport facilities** such as bus stop and metro station.  \n",
    "  \n",
    "He wants me to concentrate on selection of cinema location according to its nearby environment. Cinema facility and rental price is not my concern. He lists out his **top 10 favorite cinemas** in Hong Kong with rating.  \n",
    "\n",
    "I work with my teammates and select **5 possible locations** to build the cinema. Which location should be suggested to the stakeholder?"
   ]
  }
