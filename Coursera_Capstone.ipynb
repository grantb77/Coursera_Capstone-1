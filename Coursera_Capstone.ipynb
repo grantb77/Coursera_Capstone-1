<h1>Assignment - Capstone Project Notebook</h1>
This notebook is for the assignment of Coursera course Applied Data Science Capstone
import pandas as pd
import numpy as np
print('Hello Capstone Project Course!')
